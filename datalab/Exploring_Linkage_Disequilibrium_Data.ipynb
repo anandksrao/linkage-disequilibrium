{
 "cells": [
  {
   "cell_type": "markdown",
   "metadata": {},
   "source": [
    "<!-- Copyright 2015 Google Inc. All rights reserved. -->\n",
    "\n",
    "<!-- Licensed under the Apache License, Version 2.0 (the \"License\"); -->\n",
    "<!-- you may not use this file except in compliance with the License. -->\n",
    "<!-- You may obtain a copy of the License at -->\n",
    "\n",
    "<!--     http://www.apache.org/licenses/LICENSE-2.0 -->\n",
    "\n",
    "<!-- Unless required by applicable law or agreed to in writing, software -->\n",
    "<!-- distributed under the License is distributed on an \"AS IS\" BASIS, -->\n",
    "<!-- WITHOUT WARRANTIES OR CONDITIONS OF ANY KIND, either express or implied. -->\n",
    "<!-- See the License for the specific language governing permissions and -->\n",
    "<!-- limitations under the License. -->\n",
    "\n",
    "# Exploring Linkage Disequilibrium Data\n",
    "This notebook demonstrates working with linkage disequilibrium (LD) data stored as publicly accessible BigQuery datasets.\n",
    "Specifically, we will work with LD calculated on the [1000 Genomes Phase 3](http://www.nature.com/nature/journal/v526/n7571/full/nature15393.html) variants. The source variants were imported to Google Genomics and then LD calculations were performed on various subsets of the data, including all 26 populations in their own datasets as well as on the five [superpopulations](http://www.1000genomes.org/faq/which-populations-are-part-your-study) aggregated separately. The resulting datasets were exported to BigQuery using pipelines in the https://github.com/googlegenomics/linkage-disequilibrium project.\n",
    "\n",
    "If you want to explore more genomics samples, see https://github.com/googlegenomics/datalab-examples. You can import them into your Datalab instance by uploading them while on the notebook list page."
   ]
  },
  {
   "cell_type": "code",
   "execution_count": 103,
   "metadata": {
    "collapsed": true
   },
   "outputs": [],
   "source": [
    "import gcp.bigquery as bq\n",
    "import pandas as pd\n",
    "import matplotlib.pyplot as plt\n",
    "import seaborn as sns"
   ]
  },
  {
   "cell_type": "code",
   "execution_count": 104,
   "metadata": {
    "collapsed": false
   },
   "outputs": [
    {
     "data": {
      "text/plain": [
       "3029459736"
      ]
     },
     "execution_count": 104,
     "metadata": {},
     "output_type": "execute_result"
    }
   ],
   "source": [
    "# Get references to the BigQuery tables of linkage disequilibrium\n",
    "# in the five superpopulations of the 1000 Genomes Project\n",
    "# (http://www.1000genomes.org/faq/which-populations-are-part-your-study):\n",
    "# AMR: Admixed American\n",
    "# AFR: African\n",
    "# EUR: European\n",
    "# SAS: South Asian\n",
    "# EAS: East Asian\n",
    "populations = {\n",
    "  \"AFR\": [\"ACB\", \"ASW\", \"ESN\", \"GWD\", \"LWK\", \"MSL\", \"YRI\"],\n",
    "  \"AMR\": [\"CLM\", \"MXL\", \"PEL\", \"PUR\"],\n",
    "  \"EAS\": [\"CDX\", \"CHB\", \"CHS\", \"JPT\", \"KHV\"],\n",
    "  \"EUR\": [\"CEU\", \"FIN\", \"GBR\", \"IBS\", \"TSI\"],\n",
    "  \"SAS\": [\"BEB\", \"GIH\", \"ITU\", \"PJL\", \"STU\"],\n",
    "}\n",
    "\n",
    "POPULATION_PLOT_ORDER = [\"AMR\", \"AFR\", \"EUR\", \"SAS\", \"EAS\"]\n",
    "\n",
    "def get_ld_tablename(population):\n",
    "  \"\"\"Returns the name of the BigQuery table with the publicly-available LD data.\"\"\"\n",
    "  return \"genomics-public-data:linkage_disequilibrium_1000G_phase_3.super_pop_%s\" % population\n",
    "\n",
    "tables = {}\n",
    "for superpopulation, subpopulations in populations.iteritems():\n",
    "  # Only load the superpopulations for this analysis.\n",
    "  tables[superpopulation] = bq.Table(get_ld_tablename(superpopulation))\n",
    "\n",
    "tables[\"EUR\"].length"
   ]
  },
  {
   "cell_type": "markdown",
   "metadata": {},
   "source": [
    "## Visualizing the extent of LD across populations\n",
    "As the above result shows, there are over 3 billion LD results in the European dataset! That's because the 1000 Genomes Phase 3 data has over 80 million variants in it, and LD is computed between pairs of variants--even with the reduction of data stored by windowing and pruning pairs with low LD, there is still a lot of data.\n",
    "\n",
    "The following analysis will display the total number of LD result pairs on each chromosome separately for each of the five superpopulations. Note that the count values in the query is divided by two since each pair of LD results appears twice in the table."
   ]
  },
  {
   "cell_type": "code",
   "execution_count": 105,
   "metadata": {
    "collapsed": true
   },
   "outputs": [],
   "source": [
    "%%sql --module ld_count_distributions\n",
    "SELECT\n",
    "  qchrom,\n",
    "  count(*) / 2 AS num_pairs\n",
    "FROM $all_ld_table\n",
    "GROUP BY qchrom"
   ]
  },
  {
   "cell_type": "code",
   "execution_count": 106,
   "metadata": {
    "collapsed": false
   },
   "outputs": [],
   "source": [
    "# Load LD result pair counts for each superpopulation.\n",
    "ld_counts = {}\n",
    "for superpopulation in populations:\n",
    "  table = tables[superpopulation]\n",
    "  ld_counts[superpopulation] = bq.Query(ld_count_distributions,\n",
    "                                        all_ld_table=table).to_dataframe()\n",
    "  ld_counts[superpopulation].rename(columns={\"num_pairs\": superpopulation},\n",
    "                                    inplace=True)\n",
    "\n",
    "# Merge all LD result pair counts into a single dataframe.\n",
    "merged_counts = None\n",
    "for superpopulation in POPULATION_PLOT_ORDER:\n",
    "  counts = ld_counts[superpopulation]\n",
    "  if merged_counts is None:\n",
    "    merged_counts = counts\n",
    "  else:\n",
    "    merged_counts = pd.merge(merged_counts, counts, on=\"qchrom\", how=\"inner\")\n",
    "merged_counts[\"qchrom\"] = merged_counts[\"qchrom\"].astype(int)\n",
    "merged_counts.sort(\"qchrom\", inplace=True)"
   ]
  },
  {
   "cell_type": "code",
   "execution_count": 107,
   "metadata": {
    "collapsed": false
   },
   "outputs": [
    {
     "data": {
      "image/png": "[encoded data removed]",
      "text/plain": [
       "<matplotlib.figure.Figure at 0x7fd542d948d0>"
      ]
     },
     "metadata": {},
     "output_type": "display_data"
    }
   ],
   "source": [
    "# Plot the LD result pair counts by chromosome and superpopulation.\n",
    "melted_counts = pd.melt(merged_counts,\n",
    "                        id_vars=\"qchrom\",\n",
    "                        var_name=\"population\",\n",
    "                        value_name=\"num_results\")\n",
    "sns.set_style(\"whitegrid\")\n",
    "sns.barplot(x=\"qchrom\", y=\"num_results\", hue=\"population\", data=melted_counts)\n",
    "sns.axlabel(\"Chromosome\", \"Number of LD results\")"
   ]
  },
  {
   "cell_type": "markdown",
   "metadata": {},
   "source": [
    "The above results show a consistent trend, where the number of LD results per chromosome is greatest for the Admixed American superpopulation (AMR), followed by African (AFR), European (EUR), South Asian (SAS), and finally East Asian (EAS). While the presence of more LD results in AMR is expected due to population stratification ([Hinrichs et al. 2009](http://www.ncbi.nlm.nih.gov/pmc/articles/PMC3133943)), the presence of more LD in AFR than EUR is unexpected. The result likely indicates substantial population stratification within the AFR superpopulation, and a need for care in addressing it when performing association studies in a heterogeneous \"African\" population.\n",
    "\n",
    "We can investigate this more detail by examining the distributions of linkage disequilibrium results, performed below."
   ]
  },
  {
   "cell_type": "code",
   "execution_count": 108,
   "metadata": {
    "collapsed": true
   },
   "outputs": [],
   "source": [
    "def merge_summary_stats(data_dict, populations=None):\n",
    "  \"\"\"Returns a pandas DataFrame of all summary stats for all populations.\n",
    "  \n",
    "  Args:\n",
    "    data_dict: A dictionary keyed by population with value a DataFrame\n",
    "        containing mean, stdev, and quartile information about a metric.\n",
    "    populations: A list of keys of the data dictionary to include in the\n",
    "        result.\n",
    "        \n",
    "  Returns:\n",
    "    A single DataFrame with all summary statistics for all populations\n",
    "        present in the input data dictionary.\n",
    "  \"\"\"\n",
    "  if populations is None:\n",
    "    populations = sorted(data_dict.keys())\n",
    "\n",
    "  merged_dict = {\"population\": [],\n",
    "                 \"mean\": [],\n",
    "                 \"stdev\": [],\n",
    "                 \"min\": [],\n",
    "                 \"max\": [],\n",
    "                 \"q1\": [],\n",
    "                 \"median\": [],\n",
    "                 \"q3\": []}\n",
    "  \n",
    "  for population in populations:\n",
    "    metrics_table = data_dict[population]\n",
    "    merged_dict[\"population\"].append(population)\n",
    "    merged_dict[\"mean\"].append(metrics_table[\"mean\"][0])\n",
    "    merged_dict[\"stdev\"].append(metrics_table[\"stdev\"][0])\n",
    "    min_, q1, median, q3, max_ = sorted(metrics_table[\"quantiles\"])\n",
    "    merged_dict[\"min\"].append(min_)\n",
    "    merged_dict[\"q1\"].append(q1)\n",
    "    merged_dict[\"median\"].append(median)\n",
    "    merged_dict[\"q3\"].append(q3)\n",
    "    merged_dict[\"max\"].append(max_)\n",
    "  \n",
    "  return pd.DataFrame(merged_dict)"
   ]
  },
  {
   "cell_type": "code",
   "execution_count": 109,
   "metadata": {
    "collapsed": false
   },
   "outputs": [],
   "source": [
    "def boxplot_from_summary_stats(data, position_col, ylabel,\n",
    "                               show_stddev=True, ylim=None, whis=1.5, box_width=.8):\n",
    "  \"\"\"Returns a boxplot based on the summary data.\n",
    "  \n",
    "  This function mirrors matplotlib.axes.boxplot closely, but is modified to work\n",
    "  with already-summary-data rather than including the calculation of quartiles,\n",
    "  mean, and standard deviation from the input data.\n",
    "  \"\"\"\n",
    "  fig = plt.figure()\n",
    "  ax = fig.add_subplot(111)\n",
    "  boxes, medians, means, stds = [], [], [], []\n",
    "  for pos_minus_1, row in data.iterrows():\n",
    "    pos = pos_minus_1 + 1\n",
    "    label = row[position_col]\n",
    "    min_ = row[\"min\"]\n",
    "    q1 = row[\"q1\"]\n",
    "    median = row[\"median\"]\n",
    "    q3 = row[\"q3\"]\n",
    "    max_ = row[\"max\"]\n",
    "    mean = row[\"mean\"]\n",
    "    stdev = row[\"stdev\"]\n",
    "    iq = q3 - q1\n",
    "    hi_val = q3 + whis * iq\n",
    "    lo_val = q1 - whis * iq\n",
    "    box_x_min = pos - box_width * 0.5\n",
    "    box_x_max = pos + box_width * 0.5\n",
    "    med_y = [median, median]\n",
    "    med_x = [box_x_min, box_x_max]\n",
    "    box_x = [box_x_min, box_x_max, box_x_max, box_x_min, box_x_min]\n",
    "    box_y = [q1, q1, q3, q3, q1]\n",
    "    mean_x = [pos - box_width * .05, pos + box_width * .05]\n",
    "    mean_y = [mean, mean]\n",
    "    std_x = [pos, pos]\n",
    "    std_y = [mean - stdev, mean + stdev]\n",
    "    boxes.extend(ax.plot(box_x, box_y, \"b-\"))\n",
    "    medians.extend(ax.plot(med_x, med_y, \"r-\"))\n",
    "    means.extend(ax.plot(mean_x, mean_y, \"b-\"))\n",
    "    if show_stddev:\n",
    "      stds.extend(ax.plot(std_x, std_y, \"b--\"))\n",
    "  ax.set_xticklabels([\"\"] + list(data[position_col]))\n",
    "  ax.set_ylabel(ylabel)\n",
    "  ax.set_axis_bgcolor(\"white\")\n",
    "  ax.grid(False)\n",
    "  if ylim is not None:\n",
    "    ax.set_ylim(ylim)\n",
    "  return dict(boxes=boxes, medians=medians, means=means, stds=stds)"
   ]
  },
  {
   "cell_type": "markdown",
   "metadata": {},
   "source": [
    "The following query will be used to examine the distribution of r^2 values in each superpopulation."
   ]
  },
  {
   "cell_type": "code",
   "execution_count": 110,
   "metadata": {
    "collapsed": true
   },
   "outputs": [],
   "source": [
    "%%sql --module ld_rsquared_distributions\n",
    "SELECT\n",
    "  AVG(corr * corr) AS mean,\n",
    "  STDDEV(corr * corr) AS stdev,\n",
    "  QUANTILES(corr * corr, 5) AS quantiles\n",
    "FROM $all_ld_table\n",
    "WHERE\n",
    "  qstart < tstart"
   ]
  },
  {
   "cell_type": "markdown",
   "metadata": {},
   "source": [
    "The following query will be used to examine the distribution of frequencies of the most rare haplotype for each LD comparison in each superpopulation."
   ]
  },
  {
   "cell_type": "code",
   "execution_count": 111,
   "metadata": {
    "collapsed": true
   },
   "outputs": [],
   "source": [
    "%%sql --module ld_maf_distributions\n",
    "SELECT\n",
    "  AVG(LEAST(num_bothone_chroms,\n",
    "            num_chroms - num_qone_chroms - num_tone_chroms + num_bothone_chroms,\n",
    "            num_qone_chroms - num_bothone_chroms,\n",
    "            num_tone_chroms - num_bothone_chroms) / num_chroms) AS mean,\n",
    "  STDDEV(LEAST(num_bothone_chroms,\n",
    "               num_chroms - num_qone_chroms - num_tone_chroms + num_bothone_chroms,\n",
    "               num_qone_chroms - num_bothone_chroms,\n",
    "               num_tone_chroms - num_bothone_chroms) / num_chroms) AS stdev,\n",
    "  QUANTILES(LEAST(num_bothone_chroms,\n",
    "                  num_chroms - num_qone_chroms - num_tone_chroms + num_bothone_chroms,\n",
    "                  num_qone_chroms - num_bothone_chroms,\n",
    "                  num_tone_chroms - num_bothone_chroms) / num_chroms, 5) AS quantiles\n",
    "FROM $all_ld_table\n",
    "WHERE\n",
    "  qstart < tstart"
   ]
  },
  {
   "cell_type": "code",
   "execution_count": 112,
   "metadata": {
    "collapsed": false
   },
   "outputs": [],
   "source": [
    "# For each superpopulation, load the mean, stdev, and quantile results of r^2\n",
    "# and the frequency of the most rare haplotype.\n",
    "rsquared_metrics = {}\n",
    "maf_metrics = {}\n",
    "for superpopulation in populations:\n",
    "  table = tables[superpopulation]\n",
    "  rsquared_metrics[superpopulation] = bq.Query(ld_rsquared_distributions,\n",
    "                                               all_ld_table=table).to_dataframe()\n",
    "  maf_metrics[superpopulation] = bq.Query(ld_maf_distributions,\n",
    "                                          all_ld_table=table).to_dataframe()\n",
    "\n",
    "# Merge the superpopulation-specific results into single dataframes.\n",
    "merged_rsquared_metrics = merge_summary_stats(rsquared_metrics, POPULATION_PLOT_ORDER)\n",
    "merged_maf_metrics = merge_summary_stats(maf_metrics, POPULATION_PLOT_ORDER)"
   ]
  },
  {
   "cell_type": "code",
   "execution_count": 113,
   "metadata": {
    "collapsed": false
   },
   "outputs": [
    {
     "data": {
      "image/png": "[encoded data removed]",
      "text/plain": [
       "<matplotlib.figure.Figure at 0x7fd4b9697390>"
      ]
     },
     "metadata": {},
     "output_type": "display_data"
    }
   ],
   "source": [
    "_ = boxplot_from_summary_stats(merged_rsquared_metrics,\n",
    "                               position_col=\"population\",\n",
    "                               ylabel=\"Coefficient of determination (r^2)\")"
   ]
  },
  {
   "cell_type": "markdown",
   "metadata": {},
   "source": [
    "The boxplot of the r^2 measure of LD shows that the mean and median LD are highest for the European and East Asian superpopulations, and substantially lower for the African and Admixed American populations. This suggests that the larger total number of LD results in African and Admixed American populations (as evidenced by the barplot of LD results given above) may arise from rare haplotypes.\n",
    "\n",
    "To investigate this hypothesis, we can examine the distribution of frequencies of the most rare haplotype in LD results."
   ]
  },
  {
   "cell_type": "code",
   "execution_count": 114,
   "metadata": {
    "collapsed": false
   },
   "outputs": [
    {
     "data": {
      "image/png": "[encoded data removed]",
      "text/plain": [
       "<matplotlib.figure.Figure at 0x7fd4b9697510>"
      ]
     },
     "metadata": {},
     "output_type": "display_data"
    }
   ],
   "source": [
    "_ = boxplot_from_summary_stats(merged_maf_metrics,\n",
    "                               position_col=\"population\",\n",
    "                               ylabel=\"Most-rare-haplotype frequency\",\n",
    "                               show_stddev=False,\n",
    "                               ylim=[0, 0.02])"
   ]
  },
  {
   "cell_type": "markdown",
   "metadata": {},
   "source": [
    "The boxplots of the frequency of the most rare haplotypes shows that the Admixed American and African superpopulations have a similar distribution of rare haplotypes included in their LD results. The superpopulation with the distribution of least-rare haplotypes is East Asian.\n",
    "\n",
    "Taken together, the above results suggest that the grouping of populations into superpopulations introduces signals indicative of population stratification, particularly for the strongly heterogeneous \"African\" and \"Admixed American\" groups. Linkage disequilibrium and other genetic analyses subject to population stratification should ideally be performed on more genetically homogeneous subsets of data when possible."
   ]
  }
 ],
 "metadata": {
  "kernelspec": {
   "display_name": "Python 2",
   "language": "python",
   "name": "python2"
  },
  "language_info": {
   "codemirror_mode": {
    "name": "ipython",
    "version": 2
   },
   "file_extension": ".py",
   "mimetype": "text/x-python",
   "name": "python",
   "nbconvert_exporter": "python",
   "pygments_lexer": "ipython2",
   "version": "2.7.9"
  }
 },
 "nbformat": 4,
 "nbformat_minor": 0
}
